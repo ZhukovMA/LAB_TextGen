{
  "nbformat": 4,
  "nbformat_minor": 0,
  "metadata": {
    "kernelspec": {
      "display_name": "Python 3",
      "language": "python",
      "name": "python3"
    },
    "language_info": {
      "codemirror_mode": {
        "name": "ipython",
        "version": 3
      },
      "file_extension": ".py",
      "mimetype": "text/x-python",
      "name": "python",
      "nbconvert_exporter": "python",
      "pygments_lexer": "ipython3",
      "version": "3.8.5"
    },
    "colab": {
      "name": "AI_labgen.ipynb",
      "provenance": [],
      "toc_visible": true
    }
  },
  "cells": [
    {
      "cell_type": "markdown",
      "metadata": {
        "id": "8ktREJZ8hYvh"
      },
      "source": [
        "# Лабораторная работа по курсу \"Искуственный интелект\":\n",
        "## \"Генерация текстов/последовательностей с помощью нейронных сетей\"\n",
        "\n",
        "Студент группы М8О-307Б-17 Жуков Максим Александрович\n"
      ]
    },
    {
      "cell_type": "markdown",
      "metadata": {
        "id": "PzBLvLv3hYvn"
      },
      "source": [
        "## Постановка задачи:\n",
        "Научиться генерировать последовательности с помощью рекуррентных нейронных сетей.\n",
        "\n",
        "Вариант 1:\n",
        "\n",
        "Проза на русском языке, элемент последовательности - один символ. Источник данных - тексты c http://lib.ru\n",
        "\n",
        "\n",
        "План работы:\n",
        "\n",
        "1.Код оформить в виде Jupyter-ноутбука с пояснениями по ходу программы.\n",
        "\n",
        "2.Для каждого задания необходимо исследовать несколько различных нейросетевых архитектур:\n",
        "\n",
        "        а) Обычная полносвязная RNN\n",
        "\n",
        "        б) Однослойная LSTM\n",
        "\n",
        "        в) Двухслойная LSTM\n",
        "\n",
        "        г) Однослойный GRU\n",
        "\n",
        "3.Результаты оформить в виде отчета Report.md"
      ]
    },
    {
      "cell_type": "code",
      "metadata": {
        "id": "d7_O30HChYvo"
      },
      "source": [
        "from __future__ import print_function\n",
        "import tensorflow as tf\n",
        "import keras\n",
        "from keras.callbacks import ModelCheckpoint\n",
        "import keras.backend as K\n",
        "from keras.models import Sequential, Model\n",
        "from keras.layers import Dense, Dropout, Activation\n",
        "from keras.layers import LSTM, Flatten\n",
        "from keras.layers import SimpleRNN, Reshape\n",
        "from keras.layers import GRU, Embedding\n",
        "from keras.utils.data_utils import get_file\n",
        "import numpy as np\n",
        "import random\n",
        "import sys\n",
        "import io\n",
        "import os\n",
        "import string"
      ],
      "execution_count": 12,
      "outputs": []
    },
    {
      "cell_type": "markdown",
      "metadata": {
        "id": "p3iJGdYUhYvp"
      },
      "source": [
        "# Подготовка текста\n",
        "Скачиваем текст с https://www.gutenberg.org/ и указываем путь к нему. Также определим общее количество символов в тексте и выведем часть текста."
      ]
    },
    {
      "cell_type": "code",
      "metadata": {
        "colab": {
          "base_uri": "https://localhost:8080/"
        },
        "id": "zEBRzKQNhYvq",
        "outputId": "6eb0d224-4ef2-486b-92a6-928c71a285d7"
      },
      "source": [
        "path = '/content/Chaika.txt'\n",
        "\n",
        "with open(path, 'r') as f:\n",
        "    text = f.read().lower()\n",
        "print ('Length of text: {} characters'.format(len(text)))"
      ],
      "execution_count": 13,
      "outputs": [
        {
          "output_type": "stream",
          "text": [
            "Length of text: 82342 characters\n"
          ],
          "name": "stdout"
        }
      ]
    },
    {
      "cell_type": "code",
      "metadata": {
        "colab": {
          "base_uri": "https://localhost:8080/"
        },
        "id": "0TyVJbMihYvr",
        "outputId": "362a5a63-9979-48fc-d914-0ab5de26fc8d"
      },
      "source": [
        "print(text[8107:9300])"
      ],
      "execution_count": 14,
      "outputs": [
        {
          "output_type": "stream",
          "text": [
            "\n",
            "\n",
            "     нина  (решительно  отставляет  стакан  и,  глубоко  вздохнув,   говорит\n",
            "поставленным, актерским голосом.) зачем вы говорите, что целовали землю,  по\n",
            "которой я ходила? меня надо убить. (картинно  склоняется  к  столу.)  я  так\n",
            "утомилась! отдохнуть бы...  отдохнуть!  (поднимает  голову,  следит  за  его\n",
            "реакцией.) я - чайка... не то. я - актриса. ну да! (услышав смех аркадиной и\n",
            "тригорина, прислушивается, потом бежит к левой двери и  смотрит  в  замочную\n",
            "скважину.) он здесь! (возвращаясь к треплеву.) ну да... ничего...  да...  он\n",
            "не верил в театр, все смеялся  над  моими  мечтами,  и  мало-помалу  я  тоже\n",
            "перестала верить и пала духом... а тут заботы  любви,  ревность,  постоянный\n",
            "страх за маленького... я стала мелочною, ничтожною, играла бессмысленно... я\n",
            "не знала, что делать с руками, не умела стоять на сцене, не владела голосом.\n",
            "вы не понимаете этого состояния, когда чувствуешь, что играешь ужасно.  я  -\n",
            "чайка. нет, не то... помните, вы подстрелили чайку? (показывает на  чучело.)\n",
            "случайно пришел человек, увидел и от  нечего  делать  погубил...  сюжет  для\n",
            "небольшого рассказа. это не то... (трет себе лоб.) о чем  я?..  я  говорю  о\n",
            "сцене. теперь уж я не та... я уже на\n"
          ],
          "name": "stdout"
        }
      ]
    },
    {
      "cell_type": "markdown",
      "metadata": {
        "id": "SLeLsdYkhYvr"
      },
      "source": [
        "# Обработка уникальных символов\n",
        "Найдем количество уникальных символов в тексте и создадим 2 словаря: в первом уникальные символы, а во втором индекс этого символа."
      ]
    },
    {
      "cell_type": "code",
      "metadata": {
        "colab": {
          "base_uri": "https://localhost:8080/"
        },
        "id": "tna1nKgihYvs",
        "outputId": "f4220c5a-c0f9-4d44-88cf-cb16ee189f69"
      },
      "source": [
        "chars = sorted(list(set(text)))\n",
        "print('total chars:', chars)\n",
        "print('total chars:', len(chars))\n",
        "char_indices = dict((c, i) for i, c in enumerate(chars))\n",
        "indices_char = dict((i, c) for i, c in enumerate(chars))"
      ],
      "execution_count": 16,
      "outputs": [
        {
          "output_type": "stream",
          "text": [
            "total chars: ['\\n', ' ', '!', '\"', '(', ')', ',', '-', '.', '/', '0', '1', '2', '3', '4', '5', '6', '7', '8', '9', ':', ';', '?', '@', 'a', 'b', 'c', 'd', 'e', 'f', 'g', 'h', 'i', 'k', 'l', 'm', 'n', 'o', 'p', 'r', 's', 't', 'u', 'y', 'z', '©', 'а', 'б', 'в', 'г', 'д', 'е', 'ж', 'з', 'и', 'й', 'к', 'л', 'м', 'н', 'о', 'п', 'р', 'с', 'т', 'у', 'ф', 'х', 'ц', 'ч', 'ш', 'щ', 'ъ', 'ы', 'ь', 'э', 'ю', 'я']\n",
            "total chars: 78\n"
          ],
          "name": "stdout"
        }
      ]
    },
    {
      "cell_type": "markdown",
      "metadata": {
        "id": "LwvVu-k5hYvs"
      },
      "source": [
        "Создадим функция sample, которая будет выдавать наиболее вероятный символ. Вероятность будет определяться сетью, которая будет обучена ниже."
      ]
    },
    {
      "cell_type": "code",
      "metadata": {
        "id": "WlyEAqh_hYvs"
      },
      "source": [
        "def sample(preds, temperature = 1.0):\n",
        "    preds = np.asarray(preds).astype('float64')\n",
        "    preds = np.log(preds) / temperature\n",
        "    exp_preds = np.exp(preds)\n",
        "    preds = exp_preds / np.sum(exp_preds)\n",
        "    probas = np.random.multinomial(1, preds, 1)\n",
        "    return np.argmax(probas)"
      ],
      "execution_count": 17,
      "outputs": []
    },
    {
      "cell_type": "markdown",
      "metadata": {
        "id": "BI1USRfPhYvt"
      },
      "source": [
        "Разобъем наш текст на подпоследовательности с заданными максимальной длиной и шагом. Выведем полученное количество подпоследовательностей."
      ]
    },
    {
      "cell_type": "code",
      "metadata": {
        "colab": {
          "base_uri": "https://localhost:8080/"
        },
        "id": "fIBFJMHphYvt",
        "outputId": "635f5e9d-2bb5-4625-dabc-8d707d9c14cf"
      },
      "source": [
        "maxlen = 40\n",
        "step = 3\n",
        "sentences = []\n",
        "next_chars = []\n",
        "for i in range(0, len(text) - maxlen, step):\n",
        "    sentences.append(text[i: i + maxlen])\n",
        "    next_chars.append(text[i + maxlen])\n",
        "print('nb sequences:', len(sentences))"
      ],
      "execution_count": 18,
      "outputs": [
        {
          "output_type": "stream",
          "text": [
            "nb sequences: 27434\n"
          ],
          "name": "stdout"
        }
      ]
    },
    {
      "cell_type": "markdown",
      "metadata": {
        "id": "lZPSPOt_hYvt"
      },
      "source": [
        "Теперь переведем наши подпоследовательности символов в векторы."
      ]
    },
    {
      "cell_type": "code",
      "metadata": {
        "id": "F-eOt0DihYvt"
      },
      "source": [
        "x = np.zeros((len(sentences), maxlen, len(chars)), dtype=np.bool)\n",
        "y = np.zeros((len(sentences), len(chars)), dtype=np.bool)\n",
        "for i, sentence in enumerate(sentences):\n",
        "    for t, char in enumerate(sentence):\n",
        "        x[i, t, char_indices[char]] = 1\n",
        "    y[i, char_indices[next_chars[i]]] = 1"
      ],
      "execution_count": 19,
      "outputs": []
    },
    {
      "cell_type": "markdown",
      "metadata": {
        "id": "5JjmX7A4hYvu"
      },
      "source": [
        "Создадим функцию для генерации текста определенной длина на основе n-ой модели."
      ]
    },
    {
      "cell_type": "code",
      "metadata": {
        "id": "rYFdsXMMhYvu"
      },
      "source": [
        "def generate_text(model, start_string, gen_length):\n",
        "    # Зададим вариативность\n",
        "    diversity = 1.0\n",
        "    # Начало генерируемого текста\n",
        "    sentence = text[start_index: start_index + maxlen]\n",
        "    print(sentence)\n",
        "    # Запускаем посимвольную генерацию\n",
        "    for i in range(gen_length):\n",
        "        # Создаем массив нулей, в который запишем векторы символов входной строки\n",
        "        x_pred = np.zeros((1, maxlen, len(chars)))\n",
        "        for t, char in enumerate(sentence):\n",
        "            x_pred[0, t, char_indices[char]] = 1.\n",
        "\n",
        "        # Используем модель для прогнозирования\n",
        "        preds = model.predict(x_pred, verbose = 0)[0]\n",
        "        # Получаем наиболее вероятный индекс следующего символа по предсказаниям нейросети\n",
        "        next_index = sample(preds, diversity)\n",
        "        # Наиболее вероятный следующий символ по полученному индексу\n",
        "        next_char = indices_char[next_index]\n",
        "\n",
        "        sentence = sentence[1:] + next_char\n",
        "\n",
        "        sys.stdout.write(next_char)\n",
        "        sys.stdout.flush()\n",
        "    print()"
      ],
      "execution_count": 20,
      "outputs": []
    },
    {
      "cell_type": "markdown",
      "metadata": {
        "id": "dTYi-ifdhYvu"
      },
      "source": [
        "Зададим основные значения для обучаемых сетей:\n",
        "\n",
        "    batch_size: создание числа тренировочных объектов, чем это число меньше тем точнее получается результат, однако увеличивается время обучения;\n",
        "\n",
        "    gen_length: длина символов в генерируемом тексте;\n",
        "    \n",
        "    options: это будет массив, в который мы запишем основные параметры для каждой сети;\n",
        "    \n",
        "    size: количество узлов в слое;\n",
        "    \n",
        "    epochs: количество эпох (итераций) обучения;\n",
        "    \n",
        "    type_of_network: используемая нейросетевая архитектура;"
      ]
    },
    {
      "cell_type": "code",
      "metadata": {
        "id": "uG5htnG9hYvu"
      },
      "source": [
        "batch_size = 64\n",
        "\n",
        "# Длина словаря символов\n",
        "vocab_size = len(chars)\n",
        "\n",
        "gen_length = 1500\n",
        "\n",
        "options = [\n",
        "\n",
        "    {\n",
        "        'size': 128,\n",
        "        'epochs': 20,\n",
        "        'type_of_network': '1RNN'\n",
        "    },\n",
        "    \n",
        "    {\n",
        "        'size': 128,\n",
        "        'epochs': 20,\n",
        "        'type_of_network': '1LSTM'\n",
        "    },\n",
        "    \n",
        "    {\n",
        "        'size': 128,\n",
        "        'epochs': 10,\n",
        "        'type_of_network': '2LSTM'\n",
        "    }, \n",
        "    \n",
        "    {\n",
        "        'size': 128,\n",
        "        'epochs': 20,\n",
        "        'type_of_network': '1GRU'\n",
        "    }\n",
        "]"
      ],
      "execution_count": 22,
      "outputs": []
    },
    {
      "cell_type": "markdown",
      "metadata": {
        "id": "qpwxHXrahYvv"
      },
      "source": [
        "## Обучение сетей\n",
        "После каждого обучения будем обнулять сессию и менять options для будущей сети."
      ]
    },
    {
      "cell_type": "code",
      "metadata": {
        "id": "MYOn80mHhYvv"
      },
      "source": [
        "K.clear_session()\n",
        "option = options[0]"
      ],
      "execution_count": 23,
      "outputs": []
    },
    {
      "cell_type": "markdown",
      "metadata": {
        "id": "eaG6_V44hYvv"
      },
      "source": [
        "Функция для построения необходимой модели в зависимости от нужного типа:\n",
        "\n",
        "    Архитектура сети RNN в виде последовательности слоёв. Определяем один скрытый слой LSTM с option['size'] = 128 единицами памяти. Для регуляции сети будем использовать слой Dropout с вероятностью 20, как правило, это делает узлы более устойчивыми к входам. Выходной уровень - это полносвязный (Dense) уровень, использующий функцию активации softmax для вывода прогнозирования вероятности для каждого из 51 символов в диапазоне от 0 до 1.\n",
        "    \n",
        "    Архитектуру однослойной LSTM в виде последовательности слоёв. Определяем один скрытый слой LSTM с option['size'] = 128 единицами памяти. Для регуляции сети будем использовать слой Dropout с вероятностью 20, как правило, это делает узлы более устойчивыми к входам. Выходной уровень - это полносвязный (Dense) уровень, использующий функцию активации softmax для вывода прогнозирования вероятности для каждого из 51 символов в диапазоне от 0 до 1.\n",
        "    \n",
        "    Архитектуру двухслойной LSTM сети в виде последовательности слоёв. Определим количество узлов для слоя LSTM, равное 128, и добавим еще второй слой LSTM. Теперь мы имеем уже два слоя LSTM, регулязацию которых выполняем при помощи техники dropout. Добавляем полносвязный слой с функцией активации - непрерывная функция softmax с 51 выходами, равное количеству уникальных символов в нашем тексте.\n",
        "    \n",
        "    Архитектура ондослойной GRU сети: количество узлов равно 128 для слоя GRU. Добавим слой Flatten для изменения формы тензора. Во избежание переобучения добавим Dropout. Затем добавляем полносвязный слой с функцией активации - непрерывная функция softmax с 51 выходами, равное количеству уникальных символов в нашем тексте."
      ]
    },
    {
      "cell_type": "code",
      "metadata": {
        "id": "eeXtrkhvhYvv"
      },
      "source": [
        "def building_model(vocab_size, batch_size, maxlen):\n",
        "    model = Sequential()\n",
        "    if option['type_of_network'] == '1RNN':\n",
        "        model.add(SimpleRNN(option['size'], input_shape = (maxlen, vocab_size)))\n",
        "        model.add(Dense(vocab_size)) \n",
        "        model.add(Activation('softmax'))\n",
        "    elif option['type_of_network'] == '1LSTM':\n",
        "        model.add(LSTM(option['size'], input_shape = (maxlen, vocab_size)))\n",
        "        model.add(Dropout(0.2))\n",
        "        model.add(Dense(vocab_size))\n",
        "        model.add(Activation('softmax'))\n",
        "    elif option['type_of_network'] == '2LSTM':\n",
        "        model.add(LSTM(option['size'], input_shape = (maxlen, vocab_size), return_sequences = True))\n",
        "        model.add(Dropout(0.2))\n",
        "        model.add(LSTM(option['size']))\n",
        "        model.add(Dropout(0.2))\n",
        "        model.add(Dense(vocab_size))\n",
        "        model.add(Activation('softmax'))\n",
        "    else:\n",
        "        model4.add(GRU(option['size'], input_shape = (maxlen, vocab_size), return_sequences = True))\n",
        "        model4.add(Flatten())\n",
        "        model4.add(Dense(vocab_size)) \n",
        "        model4.add(Activation('softmax')) \n",
        "    return model"
      ],
      "execution_count": 24,
      "outputs": []
    },
    {
      "cell_type": "markdown",
      "metadata": {
        "id": "YQSLZIL2hYvw"
      },
      "source": [
        "## RNN\n",
        "Передадим все наши параметры и построем модель для RNN семи"
      ]
    },
    {
      "cell_type": "code",
      "metadata": {
        "scrolled": true,
        "colab": {
          "base_uri": "https://localhost:8080/"
        },
        "id": "LhG0DSvyhYvw",
        "outputId": "e81ba810-9ef0-4ea7-f46f-ad456ca9a53a"
      },
      "source": [
        "model1 = building_model(vocab_size = vocab_size, batch_size = batch_size, maxlen = maxlen)\n",
        "model1.summary()"
      ],
      "execution_count": 25,
      "outputs": [
        {
          "output_type": "stream",
          "text": [
            "Model: \"sequential\"\n",
            "_________________________________________________________________\n",
            "Layer (type)                 Output Shape              Param #   \n",
            "=================================================================\n",
            "simple_rnn (SimpleRNN)       (None, 128)               26496     \n",
            "_________________________________________________________________\n",
            "dense (Dense)                (None, 78)                10062     \n",
            "_________________________________________________________________\n",
            "activation (Activation)      (None, 78)                0         \n",
            "=================================================================\n",
            "Total params: 36,558\n",
            "Trainable params: 36,558\n",
            "Non-trainable params: 0\n",
            "_________________________________________________________________\n"
          ],
          "name": "stdout"
        }
      ]
    },
    {
      "cell_type": "markdown",
      "metadata": {
        "id": "wB3bNfOVhYvw"
      },
      "source": [
        "Настроим модель с потерями и метриками с помощью model.compile(). В качестве функции оптимизации используем Adam. Дальше определяем функцию потери (то есть измеряем, насколько мы ошиблись) с помощью categorical crossentropy."
      ]
    },
    {
      "cell_type": "code",
      "metadata": {
        "id": "fxz9oiIahYvx"
      },
      "source": [
        "model1.compile(loss = 'categorical_crossentropy', optimizer = 'adam')"
      ],
      "execution_count": 26,
      "outputs": []
    },
    {
      "cell_type": "markdown",
      "metadata": {
        "id": "phzh3NOvhYvx"
      },
      "source": [
        "Создадим директорию в которую будем сохранять лучшие веса на каждой эпохе."
      ]
    },
    {
      "cell_type": "code",
      "metadata": {
        "id": "Hqooi_WahYvx"
      },
      "source": [
        "checkpoint_dir = '/content/tch_1'\n",
        "filepath = \"/content/tch_1/best-weights-on-{epoch:02d}-with-{loss:.4f}.hdf5\""
      ],
      "execution_count": 28,
      "outputs": []
    },
    {
      "cell_type": "markdown",
      "metadata": {
        "id": "pALZcjTyhYvy"
      },
      "source": [
        "Создадим непосредственно функцию для сохранения весов - результатов обучения."
      ]
    },
    {
      "cell_type": "code",
      "metadata": {
        "id": "NPNkMbxKhYvy"
      },
      "source": [
        "checkpoint_callback = ModelCheckpoint(filepath, monitor = 'loss', verbose = 1, save_best_only = True, mode = 'min')"
      ],
      "execution_count": 29,
      "outputs": []
    },
    {
      "cell_type": "markdown",
      "metadata": {
        "id": "rKuZ3WX7hYvy"
      },
      "source": [
        "Запуск тренировки модели на 20 epochss и batch_size = 64."
      ]
    },
    {
      "cell_type": "code",
      "metadata": {
        "colab": {
          "base_uri": "https://localhost:8080/"
        },
        "id": "vFzpbgK4hYvy",
        "outputId": "3655a418-4151-4112-b2d0-fd4bc268cf5b"
      },
      "source": [
        "hist1 = model1.fit(x, y,\n",
        "              batch_size = batch_size,\n",
        "              epochs = option['epochs'],\n",
        "              callbacks = [checkpoint_callback])"
      ],
      "execution_count": 30,
      "outputs": [
        {
          "output_type": "stream",
          "text": [
            "Epoch 1/20\n",
            "429/429 [==============================] - 13s 26ms/step - loss: 3.2759\n",
            "\n",
            "Epoch 00001: loss improved from inf to 3.08109, saving model to /content/tch_1/best-weights-on-01-with-3.0811.hdf5\n",
            "Epoch 2/20\n",
            "429/429 [==============================] - 9s 21ms/step - loss: 2.7415\n",
            "\n",
            "Epoch 00002: loss improved from 3.08109 to 2.68343, saving model to /content/tch_1/best-weights-on-02-with-2.6834.hdf5\n",
            "Epoch 3/20\n",
            "429/429 [==============================] - 9s 21ms/step - loss: 2.5443\n",
            "\n",
            "Epoch 00003: loss improved from 2.68343 to 2.51474, saving model to /content/tch_1/best-weights-on-03-with-2.5147.hdf5\n",
            "Epoch 4/20\n",
            "429/429 [==============================] - 9s 20ms/step - loss: 2.4401\n",
            "\n",
            "Epoch 00004: loss improved from 2.51474 to 2.42309, saving model to /content/tch_1/best-weights-on-04-with-2.4231.hdf5\n",
            "Epoch 5/20\n",
            "429/429 [==============================] - 9s 21ms/step - loss: 2.3530\n",
            "\n",
            "Epoch 00005: loss improved from 2.42309 to 2.35888, saving model to /content/tch_1/best-weights-on-05-with-2.3589.hdf5\n",
            "Epoch 6/20\n",
            "429/429 [==============================] - 9s 20ms/step - loss: 2.3107\n",
            "\n",
            "Epoch 00006: loss improved from 2.35888 to 2.30688, saving model to /content/tch_1/best-weights-on-06-with-2.3069.hdf5\n",
            "Epoch 7/20\n",
            "429/429 [==============================] - 9s 21ms/step - loss: 2.2601\n",
            "\n",
            "Epoch 00007: loss improved from 2.30688 to 2.26343, saving model to /content/tch_1/best-weights-on-07-with-2.2634.hdf5\n",
            "Epoch 8/20\n",
            "429/429 [==============================] - 9s 20ms/step - loss: 2.2192\n",
            "\n",
            "Epoch 00008: loss improved from 2.26343 to 2.22318, saving model to /content/tch_1/best-weights-on-08-with-2.2232.hdf5\n",
            "Epoch 9/20\n",
            "429/429 [==============================] - 9s 22ms/step - loss: 2.1757\n",
            "\n",
            "Epoch 00009: loss improved from 2.22318 to 2.18271, saving model to /content/tch_1/best-weights-on-09-with-2.1827.hdf5\n",
            "Epoch 10/20\n",
            "429/429 [==============================] - 9s 21ms/step - loss: 2.1376\n",
            "\n",
            "Epoch 00010: loss improved from 2.18271 to 2.14535, saving model to /content/tch_1/best-weights-on-10-with-2.1454.hdf5\n",
            "Epoch 11/20\n",
            "429/429 [==============================] - 9s 20ms/step - loss: 2.0948\n",
            "\n",
            "Epoch 00011: loss improved from 2.14535 to 2.10967, saving model to /content/tch_1/best-weights-on-11-with-2.1097.hdf5\n",
            "Epoch 12/20\n",
            "429/429 [==============================] - 9s 21ms/step - loss: 2.0688\n",
            "\n",
            "Epoch 00012: loss improved from 2.10967 to 2.07506, saving model to /content/tch_1/best-weights-on-12-with-2.0751.hdf5\n",
            "Epoch 13/20\n",
            "429/429 [==============================] - 9s 21ms/step - loss: 2.0112\n",
            "\n",
            "Epoch 00013: loss improved from 2.07506 to 2.04501, saving model to /content/tch_1/best-weights-on-13-with-2.0450.hdf5\n",
            "Epoch 14/20\n",
            "429/429 [==============================] - 9s 20ms/step - loss: 2.0060\n",
            "\n",
            "Epoch 00014: loss improved from 2.04501 to 2.01461, saving model to /content/tch_1/best-weights-on-14-with-2.0146.hdf5\n",
            "Epoch 15/20\n",
            "429/429 [==============================] - 9s 20ms/step - loss: 1.9593\n",
            "\n",
            "Epoch 00015: loss improved from 2.01461 to 1.98127, saving model to /content/tch_1/best-weights-on-15-with-1.9813.hdf5\n",
            "Epoch 16/20\n",
            "429/429 [==============================] - 9s 20ms/step - loss: 1.9262\n",
            "\n",
            "Epoch 00016: loss improved from 1.98127 to 1.95289, saving model to /content/tch_1/best-weights-on-16-with-1.9529.hdf5\n",
            "Epoch 17/20\n",
            "429/429 [==============================] - 9s 21ms/step - loss: 1.9091\n",
            "\n",
            "Epoch 00017: loss improved from 1.95289 to 1.92500, saving model to /content/tch_1/best-weights-on-17-with-1.9250.hdf5\n",
            "Epoch 18/20\n",
            "429/429 [==============================] - 9s 20ms/step - loss: 1.8702\n",
            "\n",
            "Epoch 00018: loss improved from 1.92500 to 1.89828, saving model to /content/tch_1/best-weights-on-18-with-1.8983.hdf5\n",
            "Epoch 19/20\n",
            "429/429 [==============================] - 9s 20ms/step - loss: 1.8565\n",
            "\n",
            "Epoch 00019: loss improved from 1.89828 to 1.87438, saving model to /content/tch_1/best-weights-on-19-with-1.8744.hdf5\n",
            "Epoch 20/20\n",
            "429/429 [==============================] - 9s 20ms/step - loss: 1.8251\n",
            "\n",
            "Epoch 00020: loss improved from 1.87438 to 1.85116, saving model to /content/tch_1/best-weights-on-20-with-1.8512.hdf5\n"
          ],
          "name": "stdout"
        }
      ]
    },
    {
      "cell_type": "markdown",
      "metadata": {
        "id": "qFx0n6S6hYvz"
      },
      "source": [
        "Выберем лучший вес модели, а именно результат последней итерации."
      ]
    },
    {
      "cell_type": "code",
      "metadata": {
        "id": "POLZxWjKhYvz"
      },
      "source": [
        "model1.load_weights('/content/tch_1/best-weights-on-20-with-1.8512.hdf5')"
      ],
      "execution_count": 33,
      "outputs": []
    },
    {
      "cell_type": "markdown",
      "metadata": {
        "id": "ofZnrgNrhYvz"
      },
      "source": [
        "Настраиваем модель."
      ]
    },
    {
      "cell_type": "code",
      "metadata": {
        "id": "CLIZC8fzhYv0"
      },
      "source": [
        "model1.compile(loss = 'categorical_crossentropy', optimizer = 'adam')"
      ],
      "execution_count": 34,
      "outputs": []
    },
    {
      "cell_type": "code",
      "metadata": {
        "colab": {
          "base_uri": "https://localhost:8080/"
        },
        "id": "ev0Nac1ohYv0",
        "outputId": "1d6d7833-fba0-489d-a9fe-d10f37d84667"
      },
      "source": [
        "model1.summary()"
      ],
      "execution_count": 35,
      "outputs": [
        {
          "output_type": "stream",
          "text": [
            "Model: \"sequential\"\n",
            "_________________________________________________________________\n",
            "Layer (type)                 Output Shape              Param #   \n",
            "=================================================================\n",
            "simple_rnn (SimpleRNN)       (None, 128)               26496     \n",
            "_________________________________________________________________\n",
            "dense (Dense)                (None, 78)                10062     \n",
            "_________________________________________________________________\n",
            "activation (Activation)      (None, 78)                0         \n",
            "=================================================================\n",
            "Total params: 36,558\n",
            "Trainable params: 36,558\n",
            "Non-trainable params: 0\n",
            "_________________________________________________________________\n"
          ],
          "name": "stdout"
        }
      ]
    },
    {
      "cell_type": "markdown",
      "metadata": {
        "id": "w1DMYUd4hYv0"
      },
      "source": [
        "Запускаем генерацию текста на основе RNN"
      ]
    },
    {
      "cell_type": "code",
      "metadata": {
        "colab": {
          "base_uri": "https://localhost:8080/"
        },
        "id": "MmJk4FrJhYv0",
        "outputId": "04f14f61-f529-4d49-c207-1d09cb30ff27"
      },
      "source": [
        "start_index = random.randint(0, len(text) - maxlen - 1)\n",
        "print(generate_text(model1, start_string = text[start_index: start_index + maxlen], gen_length = gen_length))"
      ],
      "execution_count": 36,
      "outputs": [
        {
          "output_type": "stream",
          "text": [
            "ой. разговаривают. я был удивлен, но  по\n",
            "лишаловичий что\n",
            "ношгорокливарь усполин  рактает  порна межейнил. я дверяте граста! овую, крепопнусшевла. пиша, аях..\n",
            "\n",
            "     дорн. одораз еть дирась.)\n",
            "са же ленинакто женниепол: (казна бидь годзшал,  кто фикум дак  бросетер. овспывичты)  пос\n",
            "ощи  пливерасьвиесь белью быдляжипить гамрейка о ночний ошлевить яноговпращенся? залошлив2ют -сошать\n",
            "\n",
            "пруз..\n",
            "т  т\n",
            "какрить\n",
            "пескы нело, катеетьи поужнучибкой мротькотон, читсявишь. орговизна. \"ивсеть любелс валижь  а  беся он уми. ого распе немет  леват у лешьскте?  теевнеу пенажитепробка.  вес у сьнака тепьяшу...\n",
            "\n",
            "     дрирпуюстверо)стиз рашподи.  пребыанов ивнеса? ниобхжднугу! вы  насмывалустовлю екаят выконконне: удена и  что? я не води  раз ржевнит. .\n",
            "но прредверстволячес  в мушем, ояднуя. этож лесны  было  мрначич?\"я угораютось... мы     промушал, рычной. вужно. него нившем, ракокая  а  вылам шаатрина, очтиу все прочепля жезнасамещя то.\n",
            "\n",
            "  с  знавико, ум,   рос ернее,\n",
            "чедернавася чамолеем итвять кик раскаезрани бычет\n",
            "и мотивью людице (пробпяжатаетиринова. (подететь мана этертае качтра,\n",
            "ка види  прокосвающе говим далыйсовсе: на. там.. (твижуребом). степаст\n",
            "о сяждо труже,  стошко  зарка перитали  бын   м\n",
            "дврегонобросия мос?.\n",
            "хотакай у пожоно  спатляни.).\n",
            "т  пашен... (разкуда  семвнит - - о дорактеена огдарную:  строн этотед  тсываел дозмакатьтерля зм ироза наля\n",
            " еритриниеть! а еверьерна\n",
            "т бы подвыаскидала\n",
            "и свождоблой врепорают еримовуе  чшего во -тс-да! нимо, бы стреля\n",
            "на  встролинья\n",
            "вапомилать  осташлее кровори  геприты\n",
            "\n",
            "      неша  инег\n",
            "None\n"
          ],
          "name": "stdout"
        }
      ]
    },
    {
      "cell_type": "markdown",
      "metadata": {
        "id": "fE1teKYihYv0"
      },
      "source": [
        "Вычислим значение потерь на обучающих данных"
      ]
    },
    {
      "cell_type": "code",
      "metadata": {
        "colab": {
          "base_uri": "https://localhost:8080/"
        },
        "id": "dLPenn4shYv1",
        "outputId": "03c0ed7f-c030-48f4-a817-9e87e37c6c5e"
      },
      "source": [
        "test_acc = model1.evaluate(x, y, verbose = 2)\n",
        "print(\"Потери на данных\")\n",
        "print(\"%s: %.3f\" % (model1.metrics_names[0], test_acc)) # loss (потери)"
      ],
      "execution_count": 37,
      "outputs": [
        {
          "output_type": "stream",
          "text": [
            "858/858 - 4s - loss: 1.7698\n",
            "Потери на данных\n",
            "loss: 1.770\n"
          ],
          "name": "stdout"
        }
      ]
    },
    {
      "cell_type": "markdown",
      "metadata": {
        "id": "W0PZH0Z4hYv1"
      },
      "source": [
        "Построим график зависимостей потерь от количества epochs."
      ]
    },
    {
      "cell_type": "code",
      "metadata": {
        "colab": {
          "base_uri": "https://localhost:8080/",
          "height": 294
        },
        "id": "MHvaR5rqhYv1",
        "outputId": "65efb4b6-d1b7-4e9f-c4dd-215737304fc0"
      },
      "source": [
        "import matplotlib.pyplot as plt\n",
        "\n",
        "plt.plot(hist1.history['loss'])\n",
        "plt.title('Model loss')\n",
        "plt.ylabel('Loss')\n",
        "plt.xlabel('Epoch')\n",
        "plt.legend(['Train'], loc = 'upper left')\n",
        "plt.savefig('/content/laba/RNN.png')\n",
        "plt.show()"
      ],
      "execution_count": 39,
      "outputs": [
        {
          "output_type": "display_data",
          "data": {
            "image/png": "[encoded data removed]",
            "text/plain": [
              "<Figure size 432x288 with 1 Axes>"
            ]
          },
          "metadata": {
            "tags": [],
            "needs_background": "light"
          }
        }
      ]
    },
    {
      "cell_type": "markdown",
      "metadata": {
        "id": "aEopanS7hYv1"
      },
      "source": [
        "## Вывод - RNN\n",
        "В сгенерированном тексте прослеживются правильные слова (однако есть и неразбериха), используются артикли и предлоги. Также прослеживаются части предложений, однако для дальнейших выводов надо просмотреть остальные выводы моделей."
      ]
    },
    {
      "cell_type": "markdown",
      "metadata": {
        "id": "sEqnDH1YhYv1"
      },
      "source": [
        "## Однослойная LSTM "
      ]
    },
    {
      "cell_type": "markdown",
      "metadata": {
        "id": "kriZgWNThYv1"
      },
      "source": [
        "Выполним аналогичные действия для новой модели, создав лополнительную директорию, обучим модель и сгенерируем текст."
      ]
    },
    {
      "cell_type": "code",
      "metadata": {
        "colab": {
          "base_uri": "https://localhost:8080/"
        },
        "id": "dHD43snRhYv2",
        "outputId": "e1861908-240c-476e-966d-57ec2dc83019"
      },
      "source": [
        "K.clear_session()\n",
        "option = options[1]\n",
        "\n",
        "model2 = building_model(vocab_size = vocab_size, batch_size = batch_size, maxlen = maxlen)\n",
        "model2.summary()\n",
        "\n",
        "model2.compile(loss='categorical_crossentropy', optimizer = 'adam')\n",
        "\n",
        "checkpoint_dir = '/content/tch_2'\n",
        "filepath=\"/content/tch_2/best-weights-on-{epoch:02d}-with-{loss:.4f}.hdf5\"\n",
        "\n",
        "checkpoint_callback = ModelCheckpoint(filepath, monitor = 'loss', verbose = 1, save_best_only = True, mode = 'min')\n",
        "\n",
        "hist2 = model2.fit(x, y,\n",
        "              batch_size = batch_size,\n",
        "              epochs = option['epochs'],\n",
        "              callbacks = [checkpoint_callback])"
      ],
      "execution_count": 42,
      "outputs": [
        {
          "output_type": "stream",
          "text": [
            "Model: \"sequential\"\n",
            "_________________________________________________________________\n",
            "Layer (type)                 Output Shape              Param #   \n",
            "=================================================================\n",
            "lstm (LSTM)                  (None, 128)               105984    \n",
            "_________________________________________________________________\n",
            "dropout (Dropout)            (None, 128)               0         \n",
            "_________________________________________________________________\n",
            "dense (Dense)                (None, 78)                10062     \n",
            "_________________________________________________________________\n",
            "activation (Activation)      (None, 78)                0         \n",
            "=================================================================\n",
            "Total params: 116,046\n",
            "Trainable params: 116,046\n",
            "Non-trainable params: 0\n",
            "_________________________________________________________________\n",
            "Epoch 1/20\n",
            "429/429 [==============================] - 32s 72ms/step - loss: 3.3528\n",
            "\n",
            "Epoch 00001: loss improved from inf to 3.18123, saving model to /content/tch_2/best-weights-on-01-with-3.1812.hdf5\n",
            "Epoch 2/20\n",
            "429/429 [==============================] - 31s 71ms/step - loss: 2.9039\n",
            "\n",
            "Epoch 00002: loss improved from 3.18123 to 2.83077, saving model to /content/tch_2/best-weights-on-02-with-2.8308.hdf5\n",
            "Epoch 3/20\n",
            "429/429 [==============================] - 31s 73ms/step - loss: 2.6946\n",
            "\n",
            "Epoch 00003: loss improved from 2.83077 to 2.64584, saving model to /content/tch_2/best-weights-on-03-with-2.6458.hdf5\n",
            "Epoch 4/20\n",
            "429/429 [==============================] - 34s 79ms/step - loss: 2.5558\n",
            "\n",
            "Epoch 00004: loss improved from 2.64584 to 2.55755, saving model to /content/tch_2/best-weights-on-04-with-2.5576.hdf5\n",
            "Epoch 5/20\n",
            "429/429 [==============================] - 31s 73ms/step - loss: 2.5108\n",
            "\n",
            "Epoch 00005: loss improved from 2.55755 to 2.49866, saving model to /content/tch_2/best-weights-on-05-with-2.4987.hdf5\n",
            "Epoch 6/20\n",
            "429/429 [==============================] - 33s 76ms/step - loss: 2.4548\n",
            "\n",
            "Epoch 00006: loss improved from 2.49866 to 2.44695, saving model to /content/tch_2/best-weights-on-06-with-2.4469.hdf5\n",
            "Epoch 7/20\n",
            "429/429 [==============================] - 33s 77ms/step - loss: 2.4089\n",
            "\n",
            "Epoch 00007: loss improved from 2.44695 to 2.39871, saving model to /content/tch_2/best-weights-on-07-with-2.3987.hdf5\n",
            "Epoch 8/20\n",
            "429/429 [==============================] - 31s 73ms/step - loss: 2.3669\n",
            "\n",
            "Epoch 00008: loss improved from 2.39871 to 2.35480, saving model to /content/tch_2/best-weights-on-08-with-2.3548.hdf5\n",
            "Epoch 9/20\n",
            "429/429 [==============================] - 31s 72ms/step - loss: 2.3139\n",
            "\n",
            "Epoch 00009: loss improved from 2.35480 to 2.31883, saving model to /content/tch_2/best-weights-on-09-with-2.3188.hdf5\n",
            "Epoch 10/20\n",
            "429/429 [==============================] - 31s 73ms/step - loss: 2.2760\n",
            "\n",
            "Epoch 00010: loss improved from 2.31883 to 2.27399, saving model to /content/tch_2/best-weights-on-10-with-2.2740.hdf5\n",
            "Epoch 11/20\n",
            "429/429 [==============================] - 31s 72ms/step - loss: 2.2381\n",
            "\n",
            "Epoch 00011: loss improved from 2.27399 to 2.23093, saving model to /content/tch_2/best-weights-on-11-with-2.2309.hdf5\n",
            "Epoch 12/20\n",
            "429/429 [==============================] - 31s 71ms/step - loss: 2.2004\n",
            "\n",
            "Epoch 00012: loss improved from 2.23093 to 2.19281, saving model to /content/tch_2/best-weights-on-12-with-2.1928.hdf5\n",
            "Epoch 13/20\n",
            "429/429 [==============================] - 31s 72ms/step - loss: 2.1461\n",
            "\n",
            "Epoch 00013: loss improved from 2.19281 to 2.15248, saving model to /content/tch_2/best-weights-on-13-with-2.1525.hdf5\n",
            "Epoch 14/20\n",
            "429/429 [==============================] - 31s 72ms/step - loss: 2.1095\n",
            "\n",
            "Epoch 00014: loss improved from 2.15248 to 2.11756, saving model to /content/tch_2/best-weights-on-14-with-2.1176.hdf5\n",
            "Epoch 15/20\n",
            "429/429 [==============================] - 32s 75ms/step - loss: 2.0701\n",
            "\n",
            "Epoch 00015: loss improved from 2.11756 to 2.07497, saving model to /content/tch_2/best-weights-on-15-with-2.0750.hdf5\n",
            "Epoch 16/20\n",
            "429/429 [==============================] - 33s 77ms/step - loss: 2.0332\n",
            "\n",
            "Epoch 00016: loss improved from 2.07497 to 2.04290, saving model to /content/tch_2/best-weights-on-16-with-2.0429.hdf5\n",
            "Epoch 17/20\n",
            "429/429 [==============================] - 31s 72ms/step - loss: 2.0041\n",
            "\n",
            "Epoch 00017: loss improved from 2.04290 to 2.00790, saving model to /content/tch_2/best-weights-on-17-with-2.0079.hdf5\n",
            "Epoch 18/20\n",
            "429/429 [==============================] - 31s 72ms/step - loss: 1.9737\n",
            "\n",
            "Epoch 00018: loss improved from 2.00790 to 1.97086, saving model to /content/tch_2/best-weights-on-18-with-1.9709.hdf5\n",
            "Epoch 19/20\n",
            "429/429 [==============================] - 31s 72ms/step - loss: 1.9423\n",
            "\n",
            "Epoch 00019: loss improved from 1.97086 to 1.93758, saving model to /content/tch_2/best-weights-on-19-with-1.9376.hdf5\n",
            "Epoch 20/20\n",
            "429/429 [==============================] - 31s 72ms/step - loss: 1.8954\n",
            "\n",
            "Epoch 00020: loss improved from 1.93758 to 1.89943, saving model to /content/tch_2/best-weights-on-20-with-1.8994.hdf5\n"
          ],
          "name": "stdout"
        }
      ]
    },
    {
      "cell_type": "code",
      "metadata": {
        "id": "_fUXcgQ9hYv2"
      },
      "source": [
        "model2.load_weights('/content/tch_2/best-weights-on-20-with-1.8994.hdf5')"
      ],
      "execution_count": 44,
      "outputs": []
    },
    {
      "cell_type": "code",
      "metadata": {
        "colab": {
          "base_uri": "https://localhost:8080/"
        },
        "id": "gZZhhrllhYv2",
        "outputId": "b54cc530-dad6-4885-a05d-389e93a47587"
      },
      "source": [
        "model2.compile(loss = 'categorical_crossentropy', optimizer = 'adam')\n",
        "model2.summary()"
      ],
      "execution_count": 45,
      "outputs": [
        {
          "output_type": "stream",
          "text": [
            "Model: \"sequential\"\n",
            "_________________________________________________________________\n",
            "Layer (type)                 Output Shape              Param #   \n",
            "=================================================================\n",
            "lstm (LSTM)                  (None, 128)               105984    \n",
            "_________________________________________________________________\n",
            "dropout (Dropout)            (None, 128)               0         \n",
            "_________________________________________________________________\n",
            "dense (Dense)                (None, 78)                10062     \n",
            "_________________________________________________________________\n",
            "activation (Activation)      (None, 78)                0         \n",
            "=================================================================\n",
            "Total params: 116,046\n",
            "Trainable params: 116,046\n",
            "Non-trainable params: 0\n",
            "_________________________________________________________________\n"
          ],
          "name": "stdout"
        }
      ]
    },
    {
      "cell_type": "code",
      "metadata": {
        "colab": {
          "base_uri": "https://localhost:8080/"
        },
        "id": "ly3IB_IvhYv2",
        "outputId": "a78865de-93fc-4afa-cdcc-6561a0964d2c"
      },
      "source": [
        "start_index = random.randint(0, len(text) - maxlen - 1)\n",
        "print(generate_text(model2, start_string = text[start_index: start_index + maxlen], gen_length = gen_length))"
      ],
      "execution_count": 46,
      "outputs": [
        {
          "output_type": "stream",
          "text": [
            " то, драгоценный илья афанасьевич, что т\n",
            "ак не вверхомолое сколошно, мыльэкой.)\n",
            "\n",
            "     погонин накорин не стриля почурать презчасое..\n",
            "\n",
            "\n",
            "    дарннивого...\n",
            "\n",
            "     пикан. енеентеннееногаляни: (ворается. шаминать, а так..... нине нигал.. на дирава. а  мелгя ко  дупала?\n",
            "я  не  попужать,  педдять.  побуслыв\n",
            "чтокивя щи тебы с беревие.\n",
            "\n",
            "     толин (матрете...\n",
            "з каетебеша, что этом конь кальж меи, эйсо инсено дниваю.)\n",
            "\n",
            "     мамя (оборалаетина всемободинобых нало поверах всере! ты он занен! как еболь тодерьтожнох мость. на оничерилимакаутькийдумы на рушаха??\n",
            "\n",
            "     полина. шледнает таймое плажеем не разобыс, раморила - вочтона меня. собрадхо... (мелак, что менубеть.\n",
            "\n",
            "     дорн. не пидвсе него ного чват, завнестоблиной мочей тектраяки смешаенится, что  вскаши\n",
            "врачика. (столлвечной ме  древкутинся  пхомедно,  кила  да  тека,  тсяванося,  вез  стаер?\n",
            "момный наподучком, а кеня не мнчайм, заедь.). ма вудевольишась.. ни ни егда бумий мо жизномаки жи ходуйст.\n",
            "\n",
            "\n",
            "     сорин (и\n",
            "елуцуреываесьно. это крепдину голько уже кодгать я вобвогсиваетинай я - ес - пошетрем на миша! я ст, любила...\n",
            "\n",
            "     сорен (зимечаскини. на, привчет замеется, что была.\n",
            "\n",
            "\n",
            "     торь (отсиантонина масемет на мочсаль\n",
            "дарерась... зда  вад  как  -  что  кичет\n",
            "кревено стали у прастер. тобь. уюбую? кол с вы нес,  тельчей,  подетери  не  - сввенно, прогоризна в этскаяки..  (сомурыйсуй\n",
            "репвость.!ей, в подгомнени звасьти жегу ведот рязало в ону.\n",
            "\n",
            "     почина срила вашьмувепанся). но встоллювам, на послеет треприто руки и уполи. то, толечась, тенело  этой\n",
            "круст, звежь тебя им\n",
            "None\n"
          ],
          "name": "stdout"
        }
      ]
    },
    {
      "cell_type": "code",
      "metadata": {
        "colab": {
          "base_uri": "https://localhost:8080/"
        },
        "id": "k81MokIOhYv2",
        "outputId": "4a2b7889-dbcf-42d3-da17-b14ec90a32dd"
      },
      "source": [
        "test_acc = model2.evaluate(x, y, verbose = 2)\n",
        "print(\"Потери на данных\")\n",
        "print(\"%s: %.3f\" % (model2.metrics_names[0], test_acc)) # loss (потери)"
      ],
      "execution_count": 47,
      "outputs": [
        {
          "output_type": "stream",
          "text": [
            "858/858 - 12s - loss: 1.7636\n",
            "Потери на данных\n",
            "loss: 1.764\n"
          ],
          "name": "stdout"
        }
      ]
    },
    {
      "cell_type": "code",
      "metadata": {
        "colab": {
          "base_uri": "https://localhost:8080/",
          "height": 294
        },
        "id": "WSY-P6MLhYv3",
        "outputId": "9f12fc54-7fb1-452d-d7ab-663baa6d222e"
      },
      "source": [
        "plt.plot(hist2.history['loss'])\n",
        "plt.title('Model loss')\n",
        "plt.ylabel('Loss')\n",
        "plt.xlabel('Epoch')\n",
        "plt.legend(['Train'], loc = 'upper left')\n",
        "plt.savefig('/content/laba/1LSTM.png')\n",
        "plt.show()"
      ],
      "execution_count": 48,
      "outputs": [
        {
          "output_type": "display_data",
          "data": {
            "image/png": "[encoded data removed]",
            "text/plain": [
              "<Figure size 432x288 with 1 Axes>"
            ]
          },
          "metadata": {
            "tags": [],
            "needs_background": "light"
          }
        }
      ]
    },
    {
      "cell_type": "markdown",
      "metadata": {
        "id": "ezJ4UAm1hYv3"
      },
      "source": [
        "## Вывод - однослойная LSTM\n",
        "Обратим внимание что, потеря данных снизилась, а сам текст стал осмысленнее. Начали проявляться вставки базовых конструкций (сущ. + гл.)."
      ]
    },
    {
      "cell_type": "markdown",
      "metadata": {
        "id": "ZHIdBRjMhYv3"
      },
      "source": [
        "## Двухслойная LSTM "
      ]
    },
    {
      "cell_type": "markdown",
      "metadata": {
        "id": "CAXuROyPhYv3"
      },
      "source": [
        "Выполним аналогичные действия для новой модели, создав лополнительную директорию, обучим модель и сгенерируем текст. Однако я уменьшил число эпох до 10, так для batch_size = 64, на котором было обучено уже 2 сети время стало очень большим. Поэтому оценим значения потерь на 10 эпохе."
      ]
    },
    {
      "cell_type": "code",
      "metadata": {
        "colab": {
          "base_uri": "https://localhost:8080/"
        },
        "id": "1605sD2MhYv3",
        "outputId": "e1cf98cc-dadf-4b2b-9957-98ce67a633c8"
      },
      "source": [
        "K.clear_session()\n",
        "option = options[2]\n",
        "\n",
        "model3 = building_model(vocab_size = vocab_size, batch_size = batch_size, maxlen = maxlen)\n",
        "\n",
        "model3.summary()\n",
        "model3.compile(loss='categorical_crossentropy', optimizer = 'adam')\n",
        "\n",
        "checkpoint_dir = '/content/tch3'\n",
        "filepath = \"/content/tch3/best-weights-on-{epoch:02d}-with-{loss:.4f}.hdf5\"\n",
        "\n",
        "checkpoint_callback = ModelCheckpoint(filepath, monitor = 'loss', verbose = 1, save_best_only = True, mode = 'min')\n",
        "\n",
        "hist3 = model3.fit(x, y,\n",
        "              batch_size = batch_size,\n",
        "              epochs = option['epochs'],\n",
        "              callbacks = [checkpoint_callback])"
      ],
      "execution_count": 50,
      "outputs": [
        {
          "output_type": "stream",
          "text": [
            "Model: \"sequential\"\n",
            "_________________________________________________________________\n",
            "Layer (type)                 Output Shape              Param #   \n",
            "=================================================================\n",
            "lstm (LSTM)                  (None, 40, 128)           105984    \n",
            "_________________________________________________________________\n",
            "dropout (Dropout)            (None, 40, 128)           0         \n",
            "_________________________________________________________________\n",
            "lstm_1 (LSTM)                (None, 128)               131584    \n",
            "_________________________________________________________________\n",
            "dropout_1 (Dropout)          (None, 128)               0         \n",
            "_________________________________________________________________\n",
            "dense (Dense)                (None, 78)                10062     \n",
            "_________________________________________________________________\n",
            "activation (Activation)      (None, 78)                0         \n",
            "=================================================================\n",
            "Total params: 247,630\n",
            "Trainable params: 247,630\n",
            "Non-trainable params: 0\n",
            "_________________________________________________________________\n",
            "Epoch 1/10\n",
            "429/429 [==============================] - 74s 165ms/step - loss: 3.3308\n",
            "\n",
            "Epoch 00001: loss improved from inf to 3.21573, saving model to /content/tch3/best-weights-on-01-with-3.2157.hdf5\n",
            "Epoch 2/10\n",
            "429/429 [==============================] - 72s 168ms/step - loss: 2.9522\n",
            "\n",
            "Epoch 00002: loss improved from 3.21573 to 2.86061, saving model to /content/tch3/best-weights-on-02-with-2.8606.hdf5\n",
            "Epoch 3/10\n",
            "429/429 [==============================] - 73s 170ms/step - loss: 2.6816\n",
            "\n",
            "Epoch 00003: loss improved from 2.86061 to 2.64818, saving model to /content/tch3/best-weights-on-03-with-2.6482.hdf5\n",
            "Epoch 4/10\n",
            "429/429 [==============================] - 73s 170ms/step - loss: 2.5390\n",
            "\n",
            "Epoch 00004: loss improved from 2.64818 to 2.54038, saving model to /content/tch3/best-weights-on-04-with-2.5404.hdf5\n",
            "Epoch 5/10\n",
            "429/429 [==============================] - 72s 168ms/step - loss: 2.4525\n",
            "\n",
            "Epoch 00005: loss improved from 2.54038 to 2.45193, saving model to /content/tch3/best-weights-on-05-with-2.4519.hdf5\n",
            "Epoch 6/10\n",
            "429/429 [==============================] - 73s 171ms/step - loss: 2.3812\n",
            "\n",
            "Epoch 00006: loss improved from 2.45193 to 2.36972, saving model to /content/tch3/best-weights-on-06-with-2.3697.hdf5\n",
            "Epoch 7/10\n",
            "429/429 [==============================] - 75s 174ms/step - loss: 2.3108\n",
            "\n",
            "Epoch 00007: loss improved from 2.36972 to 2.29982, saving model to /content/tch3/best-weights-on-07-with-2.2998.hdf5\n",
            "Epoch 8/10\n",
            "429/429 [==============================] - 72s 169ms/step - loss: 2.2331\n",
            "\n",
            "Epoch 00008: loss improved from 2.29982 to 2.23494, saving model to /content/tch3/best-weights-on-08-with-2.2349.hdf5\n",
            "Epoch 9/10\n",
            "429/429 [==============================] - 74s 173ms/step - loss: 2.1716\n",
            "\n",
            "Epoch 00009: loss improved from 2.23494 to 2.17448, saving model to /content/tch3/best-weights-on-09-with-2.1745.hdf5\n",
            "Epoch 10/10\n",
            "429/429 [==============================] - 76s 176ms/step - loss: 2.1090\n",
            "\n",
            "Epoch 00010: loss improved from 2.17448 to 2.12071, saving model to /content/tch3/best-weights-on-10-with-2.1207.hdf5\n"
          ],
          "name": "stdout"
        }
      ]
    },
    {
      "cell_type": "code",
      "metadata": {
        "id": "J2mVp25YhYv3"
      },
      "source": [
        "model3.load_weights('/content/tch3/best-weights-on-10-with-1.5183.hdf5')"
      ],
      "execution_count": null,
      "outputs": []
    },
    {
      "cell_type": "code",
      "metadata": {
        "id": "zi03x3ClhYv3",
        "outputId": "c9392280-641b-44db-e566-ba0a1b6c4a68"
      },
      "source": [
        "model3.compile(loss = 'categorical_crossentropy', optimizer = 'adam')\n",
        "model3.summary()"
      ],
      "execution_count": null,
      "outputs": [
        {
          "output_type": "stream",
          "text": [
            "Model: \"sequential\"\n",
            "_________________________________________________________________\n",
            "Layer (type)                 Output Shape              Param #   \n",
            "=================================================================\n",
            "lstm (LSTM)                  (None, 40, 128)           104960    \n",
            "_________________________________________________________________\n",
            "dropout (Dropout)            (None, 40, 128)           0         \n",
            "_________________________________________________________________\n",
            "lstm_1 (LSTM)                (None, 128)               131584    \n",
            "_________________________________________________________________\n",
            "dropout_1 (Dropout)          (None, 128)               0         \n",
            "_________________________________________________________________\n",
            "dense (Dense)                (None, 76)                9804      \n",
            "_________________________________________________________________\n",
            "activation (Activation)      (None, 76)                0         \n",
            "=================================================================\n",
            "Total params: 246,348\n",
            "Trainable params: 246,348\n",
            "Non-trainable params: 0\n",
            "_________________________________________________________________\n"
          ],
          "name": "stdout"
        }
      ]
    },
    {
      "cell_type": "code",
      "metadata": {
        "id": "ftPNeQU8hYv4",
        "outputId": "bd8e3571-ccb1-4b5a-da51-b42f9e9c14d5"
      },
      "source": [
        "start_index = random.randint(0, len(text) - maxlen - 1)\n",
        "print(generate_text(model3, start_string = text[start_index: start_index + maxlen], gen_length = gen_length))"
      ],
      "execution_count": null,
      "outputs": [
        {
          "output_type": "stream",
          "text": [
            " telephilon was used by the greeks for a\n",
            "pologactrous cormess in use: i philtres.\n",
            "\n",
            "fook practices, from the life sourcious\n",
            "nousted legegres in adule veneration.\n",
            "\n",
            "this imploys too, the fomplage, who common ofly desires the seven\n",
            "    roman flowers befundarina a well man, her filt, as pruchire fer\n",
            "    vediation of these minorling, distory has spood be their to\n",
            "    and your devenber?\n",
            "                as corvage, and confared,\n",
            "mixhers: re in cows cative aparts o seat her flance, who delew, but\n",
            "ble hoved all on such physitione—deaght of who\n",
            "athess besieods from gill arates in many is ungersessions relyss, bould\n",
            "    these access to have ofte shings, mil;\n",
            "            distein likespli. at tell araind’d ca nonl from the greek\n",
            "groke souves, whon entickments that involved by into custic to the cult of be bore me: juy dyrem,\n",
            "       save of pecisuded, of thistail of pumalini.\n",
            "\n",
            "in rowners:\n",
            "\n",
            "                               pasither condrops,\n",
            "         amarch to\n",
            "stimulate, and gocdective containted so erotic seess, france, unters for curdesity of some flowery wind, to women is mas abhopologecitations cania for the women in, fook threwe,\n",
            "              doth yes foor, slee, the bone of the courst gow aen, for such acfect my accurand these nonm of wines more\n",
            "soctlific with, the town and other were asses\n",
            "the hispand and is a heaven and marrivish lawser.\n",
            "\n",
            "verus, there onchers of philod’d bible statules\n",
            "    giness, and will out stal our torw.\n",
            "\n",
            "                  *       *       *       *       *\n",
            "\n",
            "are provomed is before to his milciby have shy \n",
            "None\n"
          ],
          "name": "stdout"
        }
      ]
    },
    {
      "cell_type": "code",
      "metadata": {
        "id": "D-Ej0EjahYv4",
        "outputId": "088f4684-ced2-4aef-ea03-7703eda49c20"
      },
      "source": [
        "test_acc = model3.evaluate(x, y, verbose = 2)\n",
        "print(\"Потери на данных\")\n",
        "print(\"%s: %.3f\" % (model3.metrics_names[0], test_acc)) # loss (потери)"
      ],
      "execution_count": null,
      "outputs": [
        {
          "output_type": "stream",
          "text": [
            "6353/6353 - 142s - loss: 1.3716\n",
            "Потери на данных\n",
            "loss: 1.372\n"
          ],
          "name": "stdout"
        }
      ]
    },
    {
      "cell_type": "code",
      "metadata": {
        "id": "QL-oMt-lhYv4",
        "outputId": "c3458454-3618-4e1b-c213-788dfcb30a6f"
      },
      "source": [
        "plt.plot(hist3.history['loss'])\n",
        "plt.title('Model loss')\n",
        "plt.ylabel('Loss')\n",
        "plt.xlabel('Epoch')\n",
        "plt.legend(['Train'], loc = 'upper left')\n",
        "plt.savefig('/content/laba/2LSTM.png')\n",
        "plt.show()"
      ],
      "execution_count": null,
      "outputs": [
        {
          "output_type": "display_data",
          "data": {
            "image/png": "[encoded data removed]",
            "text/plain": [
              "<Figure size 432x288 with 1 Axes>"
            ]
          },
          "metadata": {
            "tags": [],
            "needs_background": "light"
          }
        }
      ]
    },
    {
      "cell_type": "markdown",
      "metadata": {
        "id": "6vBEJPlZhYv4"
      },
      "source": [
        "## Вывод - двуслойная LSTM\n",
        "На 10 эпохе потери составили такое же значение, что на однойслойной LSTM при 20, что позволяет предположить, что на 20 выигрыш был бы в районе 1.0 - 1.2. Также в части текста использовалось несколько временных конструкций, что еще раз подтверждает улучшений модели."
      ]
    },
    {
      "cell_type": "markdown",
      "metadata": {
        "id": "ZPatWgSQhYv4"
      },
      "source": [
        "## Однослойный GRU"
      ]
    },
    {
      "cell_type": "markdown",
      "metadata": {
        "id": "R7FG7jVihYv4"
      },
      "source": [
        "Выполним аналогичные действия для новой модели, создав лополнительную директорию, обучим модель и сгенерируем текст. Стоит отметить, что время обучения было наименьшим во всех сетях."
      ]
    },
    {
      "cell_type": "code",
      "metadata": {
        "colab": {
          "base_uri": "https://localhost:8080/"
        },
        "id": "NHPSMXIfhYv5",
        "outputId": "c832ac1a-a3c5-4b8a-ceb4-baa057a565bc"
      },
      "source": [
        "K.clear_session()\n",
        "option = options[3]\n",
        "\n",
        "model4 = Sequential()\n",
        "model4.add(GRU(option['size'], input_shape = (maxlen, vocab_size), return_sequences = True))\n",
        "model4.add(Flatten())\n",
        "model4.add(Dropout(0.2))\n",
        "model4.add(Dense(vocab_size)) \n",
        "model4.add(Activation('softmax'))\n",
        "\n",
        "model4.summary()\n",
        "model4.compile(loss = 'categorical_crossentropy', optimizer = 'adam')\n",
        "\n",
        "checkpoint_dir = '/content/tch_4'\n",
        "filepath = \"/content/tch_4/best-weights-on-{epoch:02d}-with-{loss:.4f}.hdf5\"\n",
        "\n",
        "checkpoint_callback = ModelCheckpoint(filepath, monitor = 'loss', verbose = 1, save_best_only = True, mode = 'min')\n",
        "\n",
        "hist4 = model4.fit(x, y,\n",
        "              batch_size = batch_size,\n",
        "              epochs = option['epochs'],\n",
        "              callbacks = [checkpoint_callback])"
      ],
      "execution_count": 51,
      "outputs": [
        {
          "output_type": "stream",
          "text": [
            "Model: \"sequential\"\n",
            "_________________________________________________________________\n",
            "Layer (type)                 Output Shape              Param #   \n",
            "=================================================================\n",
            "gru (GRU)                    (None, 40, 128)           79872     \n",
            "_________________________________________________________________\n",
            "flatten (Flatten)            (None, 5120)              0         \n",
            "_________________________________________________________________\n",
            "dropout (Dropout)            (None, 5120)              0         \n",
            "_________________________________________________________________\n",
            "dense (Dense)                (None, 78)                399438    \n",
            "_________________________________________________________________\n",
            "activation (Activation)      (None, 78)                0         \n",
            "=================================================================\n",
            "Total params: 479,310\n",
            "Trainable params: 479,310\n",
            "Non-trainable params: 0\n",
            "_________________________________________________________________\n",
            "Epoch 1/20\n",
            "429/429 [==============================] - 32s 72ms/step - loss: 3.2083\n",
            "\n",
            "Epoch 00001: loss improved from inf to 3.01915, saving model to /content/tch_4/best-weights-on-01-with-3.0192.hdf5\n",
            "Epoch 2/20\n",
            "429/429 [==============================] - 30s 70ms/step - loss: 2.5184\n",
            "\n",
            "Epoch 00002: loss improved from 3.01915 to 2.47154, saving model to /content/tch_4/best-weights-on-02-with-2.4715.hdf5\n",
            "Epoch 3/20\n",
            "429/429 [==============================] - 30s 70ms/step - loss: 2.1616\n",
            "\n",
            "Epoch 00003: loss improved from 2.47154 to 2.18789, saving model to /content/tch_4/best-weights-on-03-with-2.1879.hdf5\n",
            "Epoch 4/20\n",
            "429/429 [==============================] - 31s 72ms/step - loss: 1.9662\n",
            "\n",
            "Epoch 00004: loss improved from 2.18789 to 2.01695, saving model to /content/tch_4/best-weights-on-04-with-2.0170.hdf5\n",
            "Epoch 5/20\n",
            "429/429 [==============================] - 31s 72ms/step - loss: 1.8291\n",
            "\n",
            "Epoch 00005: loss improved from 2.01695 to 1.89179, saving model to /content/tch_4/best-weights-on-05-with-1.8918.hdf5\n",
            "Epoch 6/20\n",
            "429/429 [==============================] - 31s 72ms/step - loss: 1.7242\n",
            "\n",
            "Epoch 00006: loss improved from 1.89179 to 1.79226, saving model to /content/tch_4/best-weights-on-06-with-1.7923.hdf5\n",
            "Epoch 7/20\n",
            "429/429 [==============================] - 30s 69ms/step - loss: 1.6205\n",
            "\n",
            "Epoch 00007: loss improved from 1.79226 to 1.70341, saving model to /content/tch_4/best-weights-on-07-with-1.7034.hdf5\n",
            "Epoch 8/20\n",
            "429/429 [==============================] - 30s 70ms/step - loss: 1.5511\n",
            "\n",
            "Epoch 00008: loss improved from 1.70341 to 1.62731, saving model to /content/tch_4/best-weights-on-08-with-1.6273.hdf5\n",
            "Epoch 9/20\n",
            "429/429 [==============================] - 30s 70ms/step - loss: 1.4718\n",
            "\n",
            "Epoch 00009: loss improved from 1.62731 to 1.54607, saving model to /content/tch_4/best-weights-on-09-with-1.5461.hdf5\n",
            "Epoch 10/20\n",
            "429/429 [==============================] - 29s 68ms/step - loss: 1.4193\n",
            "\n",
            "Epoch 00010: loss improved from 1.54607 to 1.47875, saving model to /content/tch_4/best-weights-on-10-with-1.4787.hdf5\n",
            "Epoch 11/20\n",
            "429/429 [==============================] - 29s 68ms/step - loss: 1.3174\n",
            "\n",
            "Epoch 00011: loss improved from 1.47875 to 1.39975, saving model to /content/tch_4/best-weights-on-11-with-1.3997.hdf5\n",
            "Epoch 12/20\n",
            "429/429 [==============================] - 31s 72ms/step - loss: 1.2715\n",
            "\n",
            "Epoch 00012: loss improved from 1.39975 to 1.33697, saving model to /content/tch_4/best-weights-on-12-with-1.3370.hdf5\n",
            "Epoch 13/20\n",
            "429/429 [==============================] - 31s 73ms/step - loss: 1.1845\n",
            "\n",
            "Epoch 00013: loss improved from 1.33697 to 1.25976, saving model to /content/tch_4/best-weights-on-13-with-1.2598.hdf5\n",
            "Epoch 14/20\n",
            "429/429 [==============================] - 30s 71ms/step - loss: 1.1160\n",
            "\n",
            "Epoch 00014: loss improved from 1.25976 to 1.18893, saving model to /content/tch_4/best-weights-on-14-with-1.1889.hdf5\n",
            "Epoch 15/20\n",
            "429/429 [==============================] - 31s 72ms/step - loss: 1.0462\n",
            "\n",
            "Epoch 00015: loss improved from 1.18893 to 1.12567, saving model to /content/tch_4/best-weights-on-15-with-1.1257.hdf5\n",
            "Epoch 16/20\n",
            "429/429 [==============================] - 30s 70ms/step - loss: 0.9915\n",
            "\n",
            "Epoch 00016: loss improved from 1.12567 to 1.05514, saving model to /content/tch_4/best-weights-on-16-with-1.0551.hdf5\n",
            "Epoch 17/20\n",
            "429/429 [==============================] - 30s 70ms/step - loss: 0.9156\n",
            "\n",
            "Epoch 00017: loss improved from 1.05514 to 0.98514, saving model to /content/tch_4/best-weights-on-17-with-0.9851.hdf5\n",
            "Epoch 18/20\n",
            "429/429 [==============================] - 31s 71ms/step - loss: 0.8540\n",
            "\n",
            "Epoch 00018: loss improved from 0.98514 to 0.92353, saving model to /content/tch_4/best-weights-on-18-with-0.9235.hdf5\n",
            "Epoch 19/20\n",
            "429/429 [==============================] - 30s 70ms/step - loss: 0.7887\n",
            "\n",
            "Epoch 00019: loss improved from 0.92353 to 0.86059, saving model to /content/tch_4/best-weights-on-19-with-0.8606.hdf5\n",
            "Epoch 20/20\n",
            "429/429 [==============================] - 30s 71ms/step - loss: 0.7370\n",
            "\n",
            "Epoch 00020: loss improved from 0.86059 to 0.79987, saving model to /content/tch_4/best-weights-on-20-with-0.7999.hdf5\n"
          ],
          "name": "stdout"
        }
      ]
    },
    {
      "cell_type": "code",
      "metadata": {
        "id": "rpnGGxWzhYv5"
      },
      "source": [
        "model4.load_weights('/content/tch_4/best-weights-on-20-with-0.7999.hdf5')"
      ],
      "execution_count": 54,
      "outputs": []
    },
    {
      "cell_type": "code",
      "metadata": {
        "colab": {
          "base_uri": "https://localhost:8080/"
        },
        "id": "OnU83e-dhYv5",
        "outputId": "1de96637-2a8d-40f7-f9ef-d1f7df20a710"
      },
      "source": [
        "model4.compile(loss = 'categorical_crossentropy', optimizer = 'adam')\n",
        "model4.summary()"
      ],
      "execution_count": 55,
      "outputs": [
        {
          "output_type": "stream",
          "text": [
            "Model: \"sequential\"\n",
            "_________________________________________________________________\n",
            "Layer (type)                 Output Shape              Param #   \n",
            "=================================================================\n",
            "gru (GRU)                    (None, 40, 128)           79872     \n",
            "_________________________________________________________________\n",
            "flatten (Flatten)            (None, 5120)              0         \n",
            "_________________________________________________________________\n",
            "dropout (Dropout)            (None, 5120)              0         \n",
            "_________________________________________________________________\n",
            "dense (Dense)                (None, 78)                399438    \n",
            "_________________________________________________________________\n",
            "activation (Activation)      (None, 78)                0         \n",
            "=================================================================\n",
            "Total params: 479,310\n",
            "Trainable params: 479,310\n",
            "Non-trainable params: 0\n",
            "_________________________________________________________________\n"
          ],
          "name": "stdout"
        }
      ]
    },
    {
      "cell_type": "code",
      "metadata": {
        "colab": {
          "base_uri": "https://localhost:8080/"
        },
        "id": "KW4VDvfyhYv5",
        "outputId": "a88fa55e-a633-4ebf-cd24-7cc4105e3ac0"
      },
      "source": [
        "start_index = random.randint(0, len(text) - maxlen - 1)\n",
        "print(generate_text(model4, start_string = text[start_index: start_index + maxlen], gen_length = gen_length))"
      ],
      "execution_count": 56,
      "outputs": [
        {
          "output_type": "stream",
          "text": [
            "жет маме. это  может\n",
            "огорчить маму... (с\n",
            "казочем. вят лачакаеть было. крась мего у спода.  он голучал, крольвечно  теременя.  тае  вгасми, глядильнее, на\n",
            "гдори, что  больную, простя  стовут.  вы   лебичи . \n",
            "\n",
            "\n",
            "\n",
            "   с торн всевхреплев мне, и подаласт внемя.\n",
            "\n",
            "\n",
            "     признаюдвернит проечемсетритокойтит, ссовоом в педе\n",
            "дерей.  от олйти  и вголок. на). нук, ко даналше  чего\n",
            "иктично.  колуж  естее,\n",
            "я ногогребя  дечал времот призва та  из просилона\n",
            "пемничего. мотрибо оннито зная.  стакие  пориз нучил, в зеенитре... не ны врепласуквыв... лишкавы, пит, ним голоя писанненсь нижиль,  в мечей,  вы бысте пракараесь..  всим мельед,  колет, чигоо карнаенно  и пым жу  крумной\n",
            "полько воднамшельки. мухальши.\n",
            "\n",
            "    быста  немого на принерпочши  сподуми какака чуука  на\n",
            "чейкинатьи, глянала вгоя здерго. вот телечего. тоболи ни не всл. .  та\n",
            "перем.  подожда полслукак, ирьсубячною ь охорит  семя  то  верведен со залиневчильворсе.  мачес-о, двиреной такре?\n",
            "\n",
            "     аркадина (годовголоватил). вадь. спрошлой могут бельй седвечен...\n",
            "\n",
            "     мина дащина киналаянно  зазамно,  дирак.\n",
            "\n",
            "\n",
            "\n",
            "     дорннина тобую сядь быйла биз аться, потобластьену\n",
            "приглыпинили мекя\n",
            "осназналан, моглавин и полема, водитьну, восто прозратьте  вешим\n",
            "\n",
            "\n",
            "\n",
            "     поувдалина топне педниется из стопил.  вы\n",
            "оборналан рубивать, чего  ридерстроеги ной мидве ковсегон. и пате всемведный,  нуспомневна, уду это  и что кнко об былсчасте ненуси делянивыйтрилиз раскрителе, свать\n",
            "вашон...  то  ом уприилятипонся. всманей мать,  пята и себою, ячко  ниналь  ерсти нно  мервте жизмрамо  прохачкимозм тати\n",
            "None\n"
          ],
          "name": "stdout"
        }
      ]
    },
    {
      "cell_type": "code",
      "metadata": {
        "colab": {
          "base_uri": "https://localhost:8080/"
        },
        "id": "3CxDbjW2hYv5",
        "outputId": "50a6e352-683b-44a4-f6fa-69b2c783d01e"
      },
      "source": [
        "test_acc = model4.evaluate(x, y, verbose = 2)\n",
        "print(\"Потери на данных\")\n",
        "print(\"%s: %.3f\" % (model4.metrics_names[0], test_acc)) # loss (потери)"
      ],
      "execution_count": 57,
      "outputs": [
        {
          "output_type": "stream",
          "text": [
            "858/858 - 12s - loss: 0.4331\n",
            "Потери на данных\n",
            "loss: 0.433\n"
          ],
          "name": "stdout"
        }
      ]
    },
    {
      "cell_type": "code",
      "metadata": {
        "colab": {
          "base_uri": "https://localhost:8080/",
          "height": 294
        },
        "id": "fIHYLbSShYv6",
        "outputId": "52e3ffbf-3bf5-4859-8795-a3301538f181"
      },
      "source": [
        "plt.plot(hist4.history['loss'])\n",
        "plt.title('Model loss')\n",
        "plt.ylabel('Loss')\n",
        "plt.xlabel('Epoch')\n",
        "plt.legend(['Train'], loc = 'upper left')\n",
        "plt.savefig('/content/laba/GRU.png')\n",
        "plt.show()"
      ],
      "execution_count": 58,
      "outputs": [
        {
          "output_type": "display_data",
          "data": {
            "image/png": "[encoded data removed]",
            "text/plain": [
              "<Figure size 432x288 with 1 Axes>"
            ]
          },
          "metadata": {
            "tags": [],
            "needs_background": "light"
          }
        }
      ]
    },
    {
      "cell_type": "markdown",
      "metadata": {
        "id": "Maejtk59hYv6"
      },
      "source": [
        "## Вывод - однослойный GRU\n",
        "Функция потерь показывает наименьшее значение (несчитая двуслойной LSTM), что показыает преимушество этой модели, хотя до полностью осмысленного текста еще далеко."
      ]
    }
  ]
}